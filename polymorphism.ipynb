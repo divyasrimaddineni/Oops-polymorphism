{
 "cells": [
  {
   "cell_type": "markdown",
   "metadata": {},
   "source": [
    "## polymorphism"
   ]
  },
  {
   "cell_type": "code",
   "execution_count": null,
   "metadata": {},
   "outputs": [],
   "source": [
    "poly--many\n",
    "morphs--forms."
   ]
  },
  {
   "cell_type": "code",
   "execution_count": null,
   "metadata": {},
   "outputs": [],
   "source": [
    "ex: '+' operator acts as both addition and concatination.\n",
    "    '*' operator used for both multiplication and repetition.\n",
    "    example:the same method with different implementation in parent and child class."
   ]
  },
  {
   "cell_type": "code",
   "execution_count": null,
   "metadata": {},
   "outputs": [],
   "source": [
    "1.Duck typing philosphy method:no need to mention datatypes.\n",
    "\n",
    "2.Overloading\n",
    "  a.operator overloading\n",
    "  b.method overloading\n",
    "  c.constructor overloading\n",
    "    \n",
    "3.Overriding\n",
    "  a.method overriding\n",
    "   b.constructor overriding \n",
    "    "
   ]
  },
  {
   "cell_type": "markdown",
   "metadata": {},
   "source": [
    "### 1.Ducktyping philosphy method"
   ]
  },
  {
   "cell_type": "code",
   "execution_count": 1,
   "metadata": {},
   "outputs": [
    {
     "name": "stdout",
     "output_type": "stream",
     "text": [
      "quack quack.....\n",
      "bow bow.....\n",
      "meow meow....\n"
     ]
    }
   ],
   "source": [
    "class duck:\n",
    "    def talk(self):\n",
    "        print(\"quack quack.....\")\n",
    "class dog:\n",
    "    def talk(self):\n",
    "        print(\"bow bow.....\")\n",
    "class cat:\n",
    "    def talk(self):\n",
    "        print(\"meow meow....\")\n",
    "def f1(obj):\n",
    "    obj.talk() #object creation for method \"talk\"\n",
    "l=[duck(),dog(),cat()] #object reference variable\n",
    "for obj in l:\n",
    "    f1(obj)"
   ]
  },
  {
   "cell_type": "code",
   "execution_count": 2,
   "metadata": {},
   "outputs": [
    {
     "name": "stdout",
     "output_type": "stream",
     "text": [
      "quack quack.....\n"
     ]
    },
    {
     "ename": "AttributeError",
     "evalue": "'dog' object has no attribute 'talk'",
     "output_type": "error",
     "traceback": [
      "\u001b[1;31m---------------------------------------------------------------------------\u001b[0m",
      "\u001b[1;31mAttributeError\u001b[0m                            Traceback (most recent call last)",
      "\u001b[1;32m<ipython-input-2-2d9765139dd0>\u001b[0m in \u001b[0;36m<module>\u001b[1;34m\u001b[0m\n\u001b[0;32m     12\u001b[0m \u001b[0ml\u001b[0m\u001b[1;33m=\u001b[0m\u001b[1;33m[\u001b[0m\u001b[0mduck\u001b[0m\u001b[1;33m(\u001b[0m\u001b[1;33m)\u001b[0m\u001b[1;33m,\u001b[0m\u001b[0mdog\u001b[0m\u001b[1;33m(\u001b[0m\u001b[1;33m)\u001b[0m\u001b[1;33m,\u001b[0m\u001b[0mcat\u001b[0m\u001b[1;33m(\u001b[0m\u001b[1;33m)\u001b[0m\u001b[1;33m]\u001b[0m \u001b[1;31m#object reference variable\u001b[0m\u001b[1;33m\u001b[0m\u001b[1;33m\u001b[0m\u001b[0m\n\u001b[0;32m     13\u001b[0m \u001b[1;32mfor\u001b[0m \u001b[0mobj\u001b[0m \u001b[1;32min\u001b[0m \u001b[0ml\u001b[0m\u001b[1;33m:\u001b[0m\u001b[1;33m\u001b[0m\u001b[1;33m\u001b[0m\u001b[0m\n\u001b[1;32m---> 14\u001b[1;33m     \u001b[0mf1\u001b[0m\u001b[1;33m(\u001b[0m\u001b[0mobj\u001b[0m\u001b[1;33m)\u001b[0m\u001b[1;33m\u001b[0m\u001b[1;33m\u001b[0m\u001b[0m\n\u001b[0m",
      "\u001b[1;32m<ipython-input-2-2d9765139dd0>\u001b[0m in \u001b[0;36mf1\u001b[1;34m(obj)\u001b[0m\n\u001b[0;32m      9\u001b[0m         \u001b[0mprint\u001b[0m\u001b[1;33m(\u001b[0m\u001b[1;34m\"meow meow....\"\u001b[0m\u001b[1;33m)\u001b[0m\u001b[1;33m\u001b[0m\u001b[1;33m\u001b[0m\u001b[0m\n\u001b[0;32m     10\u001b[0m \u001b[1;32mdef\u001b[0m \u001b[0mf1\u001b[0m\u001b[1;33m(\u001b[0m\u001b[0mobj\u001b[0m\u001b[1;33m)\u001b[0m\u001b[1;33m:\u001b[0m\u001b[1;33m\u001b[0m\u001b[1;33m\u001b[0m\u001b[0m\n\u001b[1;32m---> 11\u001b[1;33m     \u001b[0mobj\u001b[0m\u001b[1;33m.\u001b[0m\u001b[0mtalk\u001b[0m\u001b[1;33m(\u001b[0m\u001b[1;33m)\u001b[0m\u001b[1;33m\u001b[0m\u001b[1;33m\u001b[0m\u001b[0m\n\u001b[0m\u001b[0;32m     12\u001b[0m \u001b[0ml\u001b[0m\u001b[1;33m=\u001b[0m\u001b[1;33m[\u001b[0m\u001b[0mduck\u001b[0m\u001b[1;33m(\u001b[0m\u001b[1;33m)\u001b[0m\u001b[1;33m,\u001b[0m\u001b[0mdog\u001b[0m\u001b[1;33m(\u001b[0m\u001b[1;33m)\u001b[0m\u001b[1;33m,\u001b[0m\u001b[0mcat\u001b[0m\u001b[1;33m(\u001b[0m\u001b[1;33m)\u001b[0m\u001b[1;33m]\u001b[0m \u001b[1;31m#object reference variable\u001b[0m\u001b[1;33m\u001b[0m\u001b[1;33m\u001b[0m\u001b[0m\n\u001b[0;32m     13\u001b[0m \u001b[1;32mfor\u001b[0m \u001b[0mobj\u001b[0m \u001b[1;32min\u001b[0m \u001b[0ml\u001b[0m\u001b[1;33m:\u001b[0m\u001b[1;33m\u001b[0m\u001b[1;33m\u001b[0m\u001b[0m\n",
      "\u001b[1;31mAttributeError\u001b[0m: 'dog' object has no attribute 'talk'"
     ]
    }
   ],
   "source": [
    "class duck:\n",
    "    def talk(self):\n",
    "        print(\"quack quack.....\")\n",
    "class dog:\n",
    "    def bark(self):\n",
    "        print(\"bow bow.....\")\n",
    "class cat:\n",
    "    def talk(self):\n",
    "        print(\"meow meow....\")\n",
    "def f1(obj):\n",
    "    obj.talk()\n",
    "l=[duck(),dog(),cat()] #object reference variable\n",
    "for obj in l:\n",
    "    f1(obj)"
   ]
  },
  {
   "cell_type": "code",
   "execution_count": 7,
   "metadata": {},
   "outputs": [
    {
     "name": "stdout",
     "output_type": "stream",
     "text": [
      "quack quack.....\n",
      "hello...hii...\n",
      "bow bow.....\n",
      "quack quack.....\n",
      "hello...hii...\n",
      "bow bow.....\n"
     ]
    }
   ],
   "source": [
    "class duck:\n",
    "    def talk(self):\n",
    "        print(\"quack quack.....\")\n",
    "class human:\n",
    "    def talk(self):\n",
    "        print(\"hello...hii...\")\n",
    "class dog:\n",
    "    def bark(self):\n",
    "        print(\"bow bow.....\")\n",
    "def f1(obj):\n",
    "    if hasattr(obj,'talk'):\n",
    "        obj.talk()\n",
    "    elif hasattr(obj,'bark'): #hasattr is a predefined attribute which is used to handle the attribute errors\n",
    "        obj.bark()\n",
    "d=duck()\n",
    "f1(d)\n",
    "h=human()\n",
    "f1(h)\n",
    "d=dog()\n",
    "f1(d)\n",
    "l=[duck(),human(),dog()]\n",
    "for obj in l:\n",
    "    f1(obj)\n",
    "        "
   ]
  },
  {
   "cell_type": "markdown",
   "metadata": {},
   "source": [
    "### 2.Overloading"
   ]
  },
  {
   "cell_type": "markdown",
   "metadata": {},
   "source": [
    "#### 1.operator overloading"
   ]
  },
  {
   "cell_type": "code",
   "execution_count": null,
   "metadata": {},
   "outputs": [],
   "source": [
    "python supports 2 operator overloaing i.e,'+','*'\n"
   ]
  },
  {
   "cell_type": "code",
   "execution_count": null,
   "metadata": {},
   "outputs": [],
   "source": [
    "#magic methods:\n",
    " __x__\n",
    "    \n",
    "    x=add,sub,div,mul,mod,imul,lt,gt,ge,\n"
   ]
  },
  {
   "cell_type": "code",
   "execution_count": 8,
   "metadata": {},
   "outputs": [
    {
     "ename": "TypeError",
     "evalue": "unsupported operand type(s) for +: 'book' and 'book'",
     "output_type": "error",
     "traceback": [
      "\u001b[1;31m---------------------------------------------------------------------------\u001b[0m",
      "\u001b[1;31mTypeError\u001b[0m                                 Traceback (most recent call last)",
      "\u001b[1;32m<ipython-input-8-9251139f9a1d>\u001b[0m in \u001b[0;36m<module>\u001b[1;34m\u001b[0m\n\u001b[0;32m      5\u001b[0m \u001b[0mb1\u001b[0m\u001b[1;33m=\u001b[0m\u001b[0mbook\u001b[0m\u001b[1;33m(\u001b[0m\u001b[1;36m100\u001b[0m\u001b[1;33m)\u001b[0m\u001b[1;33m\u001b[0m\u001b[1;33m\u001b[0m\u001b[0m\n\u001b[0;32m      6\u001b[0m \u001b[0mb2\u001b[0m\u001b[1;33m=\u001b[0m\u001b[0mbook\u001b[0m\u001b[1;33m(\u001b[0m\u001b[1;36m200\u001b[0m\u001b[1;33m)\u001b[0m\u001b[1;33m\u001b[0m\u001b[1;33m\u001b[0m\u001b[0m\n\u001b[1;32m----> 7\u001b[1;33m \u001b[0mprint\u001b[0m\u001b[1;33m(\u001b[0m\u001b[0mb1\u001b[0m\u001b[1;33m+\u001b[0m\u001b[0mb2\u001b[0m\u001b[1;33m)\u001b[0m\u001b[1;33m\u001b[0m\u001b[1;33m\u001b[0m\u001b[0m\n\u001b[0m",
      "\u001b[1;31mTypeError\u001b[0m: unsupported operand type(s) for +: 'book' and 'book'"
     ]
    }
   ],
   "source": [
    "#eg pgm to understand operator overloading\n",
    "class book:\n",
    "    def __init__(self,pages):\n",
    "        self.pages=pages\n",
    "b1=book(100)\n",
    "b2=book(200)\n",
    "print(b1+b2)"
   ]
  },
  {
   "cell_type": "code",
   "execution_count": 10,
   "metadata": {},
   "outputs": [
    {
     "name": "stdout",
     "output_type": "stream",
     "text": [
      "500\n"
     ]
    }
   ],
   "source": [
    "class book:\n",
    "    def __init__(self,pages):\n",
    "        self.pages=pages\n",
    "    def __add__(self,other): #other=instance variable \n",
    "        return self.pages+other.pages+other.pages\n",
    "b1=book(100)\n",
    "b2=book(200)\n",
    "print(b1+b2)"
   ]
  },
  {
   "cell_type": "code",
   "execution_count": 12,
   "metadata": {},
   "outputs": [
    {
     "name": "stdout",
     "output_type": "stream",
     "text": [
      "500\n"
     ]
    }
   ],
   "source": [
    "class book:\n",
    "    def __init__(self,pages):\n",
    "        self.pages=pages\n",
    "    def __add__(self,other): #other=instance variable \n",
    "        return (self.pages+other.pages)+other.pages\n",
    "b1=book(100)\n",
    "b2=book(200)\n",
    "b3=book(300) # '+' operator holds only 2 operands \n",
    "print(b1+b2)"
   ]
  },
  {
   "cell_type": "code",
   "execution_count": 21,
   "metadata": {},
   "outputs": [
    {
     "name": "stdout",
     "output_type": "stream",
     "text": [
      "90<98 False\n",
      "False\n"
     ]
    }
   ],
   "source": [
    "#example of operator overloading with <,>=\n",
    "class student:\n",
    "    def __init__(self,name,marks):\n",
    "        self.name=name\n",
    "        self.marks=marks\n",
    "    def __lt__(self,other): #lt=lessthan\n",
    "        return self.marks<other.marks\n",
    "    def __ge__(self,other): #greaterthanequalto\n",
    "        return self.marks>=other.marks\n",
    "print(\"90<98\",90>98)\n",
    "s1=student(\"venky\",90)\n",
    "s2=student(\"divya\",98)\n",
    "print(s1>s2)"
   ]
  },
  {
   "cell_type": "markdown",
   "metadata": {},
   "source": [
    "### 2.method overloading"
   ]
  },
  {
   "cell_type": "code",
   "execution_count": null,
   "metadata": {},
   "outputs": [],
   "source": []
  },
  {
   "cell_type": "markdown",
   "metadata": {},
   "source": [
    "#### How we can handle method overloading requirements in python"
   ]
  },
  {
   "cell_type": "code",
   "execution_count": null,
   "metadata": {},
   "outputs": [],
   "source": [
    "we can handle the problem of method overloading concept is by using default arguments or variable length of arguments."
   ]
  },
  {
   "cell_type": "code",
   "execution_count": 4,
   "metadata": {},
   "outputs": [
    {
     "name": "stdout",
     "output_type": "stream",
     "text": [
      "sum is: 70\n"
     ]
    }
   ],
   "source": [
    "#eg pgm to handle method overloading with default arguments\n",
    "class test:\n",
    "    def sum(self,a=None,b=None,c=None):\n",
    "        if a!=None and b!=None and c!=None:\n",
    "            print(\"sum is:\",a+b+c)\n",
    "        elif a!=None and b!=None:\n",
    "            print(\"sum is:\",a+b)\n",
    "        else:\n",
    "            print(\"please enter 2 or 3 variables\")\n",
    "t=test()\n",
    "t.sum(10,20,40)\n",
    "\n"
   ]
  },
  {
   "cell_type": "code",
   "execution_count": 5,
   "metadata": {},
   "outputs": [
    {
     "name": "stdout",
     "output_type": "stream",
     "text": [
      "sum is: 280\n"
     ]
    }
   ],
   "source": [
    "#eg pgm \n",
    "class test:\n",
    "    def sum(self,*n):\n",
    "        total=0\n",
    "        for i in n:\n",
    "            total=total+i\n",
    "        print(\"sum is:\",total)\n",
    "t=test()\n",
    "t.sum(10,20,30,40,50,60,70)\n",
    "        "
   ]
  },
  {
   "cell_type": "markdown",
   "metadata": {},
   "source": [
    "### 3.Constructor overloading"
   ]
  },
  {
   "cell_type": "markdown",
   "metadata": {},
   "source": [
    "constructor overloading is not possible in python.\n",
    "\n",
    "if we define multiple constructors then last last constructor will be considered."
   ]
  },
  {
   "cell_type": "code",
   "execution_count": 6,
   "metadata": {},
   "outputs": [
    {
     "ename": "TypeError",
     "evalue": "__init__() missing 2 required positional arguments: 'a' and 'b'",
     "output_type": "error",
     "traceback": [
      "\u001b[1;31m---------------------------------------------------------------------------\u001b[0m",
      "\u001b[1;31mTypeError\u001b[0m                                 Traceback (most recent call last)",
      "\u001b[1;32m<ipython-input-6-ff679bb3962f>\u001b[0m in \u001b[0;36m<module>\u001b[1;34m\u001b[0m\n\u001b[0;32m      7\u001b[0m     \u001b[1;32mdef\u001b[0m \u001b[0m__init__\u001b[0m\u001b[1;33m(\u001b[0m\u001b[0mself\u001b[0m\u001b[1;33m,\u001b[0m\u001b[0ma\u001b[0m\u001b[1;33m,\u001b[0m\u001b[0mb\u001b[0m\u001b[1;33m)\u001b[0m\u001b[1;33m:\u001b[0m\u001b[1;33m\u001b[0m\u001b[1;33m\u001b[0m\u001b[0m\n\u001b[0;32m      8\u001b[0m         \u001b[0mprint\u001b[0m\u001b[1;33m(\u001b[0m\u001b[1;34m\"with 2 arguments...\"\u001b[0m\u001b[1;33m)\u001b[0m\u001b[1;33m\u001b[0m\u001b[1;33m\u001b[0m\u001b[0m\n\u001b[1;32m----> 9\u001b[1;33m \u001b[0mt\u001b[0m\u001b[1;33m=\u001b[0m\u001b[0mtest\u001b[0m\u001b[1;33m(\u001b[0m\u001b[1;33m)\u001b[0m\u001b[1;33m\u001b[0m\u001b[1;33m\u001b[0m\u001b[0m\n\u001b[0m",
      "\u001b[1;31mTypeError\u001b[0m: __init__() missing 2 required positional arguments: 'a' and 'b'"
     ]
    }
   ],
   "source": [
    "#eg pgm of constructor overloading\n",
    "class test:\n",
    "    def __init__(self):\n",
    "        print(\"with no arguments...\")\n",
    "    def __init__(self,a):\n",
    "        print(\"with 1 argument.....\")\n",
    "    def __init__(self,a,b):\n",
    "        print(\"with 2 arguments...\")\n",
    "t=test()        "
   ]
  },
  {
   "cell_type": "markdown",
   "metadata": {},
   "source": [
    "#### constructor overloading with default arguments:"
   ]
  },
  {
   "cell_type": "code",
   "execution_count": 7,
   "metadata": {},
   "outputs": [
    {
     "name": "stdout",
     "output_type": "stream",
     "text": [
      "constructor with 0 arguments.....\n"
     ]
    }
   ],
   "source": [
    "#eg pgm for constructor overloading with default arguments:\n",
    "class test:\n",
    "    def __init__(self,a=None,b=None,c=None):\n",
    "        print(\"constructor with 0 arguments.....\")\n",
    "t=test()        "
   ]
  },
  {
   "cell_type": "code",
   "execution_count": 9,
   "metadata": {},
   "outputs": [
    {
     "name": "stdout",
     "output_type": "stream",
     "text": [
      "constructor with 0 arguments.....\n"
     ]
    }
   ],
   "source": [
    "#eg pgm for constructor overloading with default arguments:\n",
    "class test:\n",
    "    def __init__(self,a=None,b=None,c=None):\n",
    "        print(\"constructor with 0 arguments.....\")\n",
    "t=test(1,20,40)        "
   ]
  },
  {
   "cell_type": "code",
   "execution_count": null,
   "metadata": {},
   "outputs": [],
   "source": [
    "note:we cant give more than 3 values so to overcome this we use variable length of arguments"
   ]
  },
  {
   "cell_type": "markdown",
   "metadata": {},
   "source": [
    "### constructor with variable length of arguments:"
   ]
  },
  {
   "cell_type": "code",
   "execution_count": 10,
   "metadata": {},
   "outputs": [
    {
     "name": "stdout",
     "output_type": "stream",
     "text": [
      "constructor with 0 arguments.....\n"
     ]
    }
   ],
   "source": [
    "\n",
    "class test:\n",
    "    def __init__(self,a=None,b=None,c=None):\n",
    "        print(\"constructor with 0 arguments.....\")\n",
    "t=test()        "
   ]
  },
  {
   "cell_type": "code",
   "execution_count": 13,
   "metadata": {},
   "outputs": [
    {
     "name": "stdout",
     "output_type": "stream",
     "text": [
      "constructor with 8 arguments.....\n"
     ]
    }
   ],
   "source": [
    "#eg pgm for constructor overloading with default arguments:\n",
    "class test:\n",
    "    def __init__(self,*n):\n",
    "        print(\"constructor with 8 arguments.....\")\n",
    "t=test(10,2,34,347465,368213,35,23,98)        "
   ]
  },
  {
   "cell_type": "markdown",
   "metadata": {},
   "source": [
    "## Method overriding:"
   ]
  },
  {
   "cell_type": "markdown",
   "metadata": {},
   "source": [
    "whatever no's available in parent class are by default available to child class through inheritance"
   ]
  },
  {
   "cell_type": "code",
   "execution_count": null,
   "metadata": {},
   "outputs": [],
   "source": []
  },
  {
   "cell_type": "code",
   "execution_count": 14,
   "metadata": {},
   "outputs": [
    {
     "name": "stdout",
     "output_type": "stream",
     "text": [
      "gold+land+house+car\n",
      "sunny....\n"
     ]
    }
   ],
   "source": [
    "#eg pgm for method overriding:\n",
    "class parent:\n",
    "    def property(self):\n",
    "        print(\"gold+land+house+car\")\n",
    "    def marry(self):\n",
    "        print(\"kajal....\")\n",
    "class Child(parent):\n",
    "    def marry(self):\n",
    "        print(\"sunny....\")\n",
    "c=Child()\n",
    "c.property()\n",
    "c.marry()"
   ]
  },
  {
   "cell_type": "markdown",
   "metadata": {},
   "source": [
    "# super()method:"
   ]
  },
  {
   "cell_type": "markdown",
   "metadata": {},
   "source": [
    "## constructor overriding:"
   ]
  },
  {
   "cell_type": "code",
   "execution_count": null,
   "metadata": {},
   "outputs": [],
   "source": [
    "#eg pgm for constructor overriding using super method:\n",
    "class person: #parent class\n",
    "    def __init__(self,name,age):\n",
    "        self.name=name\n",
    "        self.age=age\n",
    "class employee(person): #child class\n",
    "    def __init__(name,age):\n",
    "        super().__init__(name,age)\n",
    "        self.eno=eno\n",
    "        self.esal=esal\n",
    "    def display(self):\n",
    "        print(\"employee name:\",self.name)\n",
    "        print(\"employee age:\",self.age)\n",
    "        print(\"employee number:\",self.eno)\n",
    "        print(\"employee salary:\",self.esal)\n",
    "e1=employee(person)\n",
    "e1.display()\n"
   ]
  },
  {
   "cell_type": "code",
   "execution_count": 10,
   "metadata": {},
   "outputs": [
    {
     "name": "stdout",
     "output_type": "stream",
     "text": [
      "entered into block\n",
      "employee class created\n",
      "exit from the block\n",
      "destructor called,employee class deleted\n",
      "pgm ends...\n"
     ]
    }
   ],
   "source": [
    "class Employee:\n",
    "    def __init__(self):\n",
    "        print(\"employee class created\")\n",
    "        \n",
    "    def __del__(self):\n",
    "        print(\"destructor called,employee class deleted\")\n",
    "        \n",
    "def createobj():\n",
    "    print(\"entered into block\")\n",
    "    \n",
    "    ob=Employee()\n",
    "    print(\"exit from the block\")\n",
    "    return ob\n",
    "    del ob\n",
    "\n",
    "ob=createobj()\n",
    "print(\"pgm ends...\")\n",
    "        "
   ]
  },
  {
   "cell_type": "code",
   "execution_count": 16,
   "metadata": {},
   "outputs": [
    {
     "name": "stdout",
     "output_type": "stream",
     "text": [
      "calling the createobj method\n",
      "entered into the block\n",
      "employee class created\n",
      "exit from the block\n",
      "destructor called,employee class is deleted\n",
      "program ends.....\n"
     ]
    }
   ],
   "source": [
    "class Employee:\n",
    "    def __init__(self):\n",
    "        print(\"employee class created\")\n",
    "    def __del__(self):\n",
    "        print(\"destructor called,employee class is deleted\")\n",
    "        \n",
    "def createobj():\n",
    "    print(\"entered into the block\")\n",
    "    ob=Employee()\n",
    "    print(\"exit from the block\")\n",
    "    return ob\n",
    "    del ob\n",
    "    \n",
    "    \n",
    "print(\"calling the createobj method\")\n",
    "ob=createobj()\n",
    "print(\"program ends.....\")"
   ]
  },
  {
   "cell_type": "code",
   "execution_count": 18,
   "metadata": {},
   "outputs": [
    {
     "name": "stdout",
     "output_type": "stream",
     "text": [
      "enter the 1st number:106.65\n",
      "enter the 2nd number:78.965\n",
      "addition of 106.65 and 78.965 is 185.615\n",
      "subtraction of 106.65 and 78.965 is 27.685000000000002\n",
      "multiplication of 106.65 and 78.965 is 8421.617250000001\n",
      "division of 106.65 and 78.965 is 1.350598366364845\n"
     ]
    }
   ],
   "source": [
    "num1=float(input(\"enter the 1st number:\"))\n",
    "num2=float(input(\"enter the 2nd number:\"))\n",
    "\n",
    "sum=num1+num2\n",
    "sub=num1-num2\n",
    "mul=num1*num2\n",
    "div=num1/num2\n",
    "\n",
    "print(\"addition of {0} and {1} is {2}\".format(num1,num2,sum))\n",
    "print(\"subtraction of {0} and {1} is {2}\".format(num1,num2,sub))\n",
    "print(\"multiplication of {0} and {1} is {2}\".format(num1,num2,mul))\n",
    "print(\"division of {0} and {1} is {2}\".format(num1,num2,div))"
   ]
  },
  {
   "cell_type": "code",
   "execution_count": 26,
   "metadata": {},
   "outputs": [
    {
     "name": "stdout",
     "output_type": "stream",
     "text": [
      "(1, 2, 3, 4, 5, 6)\n",
      "<class 'tuple'>\n",
      "(12, 'divya', 12.654)\n",
      "([1, 2, 3], (12, 54, 565), 'shashank')\n",
      "d a\n",
      "('d', 'i', 'v', 'y', 'a')\n",
      "('d', 'i', 'v')\n",
      "('y', 'a')\n",
      "('i', 'v', 'y')\n"
     ]
    }
   ],
   "source": [
    "num=(1,2,3,4,5,6)\n",
    "print(num)\n",
    "print(type(num))\n",
    "\n",
    "num=(12,'divya',12.654)\n",
    "print(num)\n",
    "\n",
    "num=([1,2,3],(12,54,565),'shashank')\n",
    "print(num)\n",
    "\n",
    "num=('d','i','v','y','a')\n",
    "print(num[0],num[4])\n",
    "\n",
    "num=('d','i','v','y','a')\n",
    "print(num[:])\n",
    "print(num[:3])\n",
    "print(num[3:])\n",
    "print(num[1:4])"
   ]
  },
  {
   "cell_type": "code",
   "execution_count": null,
   "metadata": {},
   "outputs": [],
   "source": []
  }
 ],
 "metadata": {
  "kernelspec": {
   "display_name": "Python 3 (ipykernel)",
   "language": "python",
   "name": "python3"
  },
  "language_info": {
   "codemirror_mode": {
    "name": "ipython",
    "version": 3
   },
   "file_extension": ".py",
   "mimetype": "text/x-python",
   "name": "python",
   "nbconvert_exporter": "python",
   "pygments_lexer": "ipython3",
   "version": "3.9.7"
  }
 },
 "nbformat": 4,
 "nbformat_minor": 2
}
